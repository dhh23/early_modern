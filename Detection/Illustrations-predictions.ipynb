{
 "cells": [
  {
   "cell_type": "code",
   "execution_count": null,
   "metadata": {
    "scrolled": true
   },
   "outputs": [],
   "source": [
    "import os\n",
    "import sys\n",
    "sys.path.append('/users/vesalaia/.local/lib/python3.9/site-packages')\n",
    "sys.path.append('/users/vesalaia/.local/lib/python3.9/site-packages/bin')\n",
    "sys.path.append('/users/vesalaia/.local/lib/python3.9/site-packages/lib/python3.9/site-packages')"
   ]
  },
  {
   "cell_type": "code",
   "execution_count": null,
   "metadata": {
    "scrolled": true
   },
   "outputs": [],
   "source": [
    "import detectron2\n"
   ]
  },
  {
   "cell_type": "code",
   "execution_count": null,
   "metadata": {
    "scrolled": true
   },
   "outputs": [],
   "source": [
    "detectron2.__version__"
   ]
  },
  {
   "cell_type": "code",
   "execution_count": null,
   "metadata": {
    "scrolled": true
   },
   "outputs": [],
   "source": [
    "from detectron2 import model_zoo\n",
    "from detectron2.engine import DefaultTrainer\n",
    "from detectron2.engine import DefaultPredictor\n",
    "\n",
    "from detectron2.config import get_cfg\n",
    "from detectron2.utils.visualizer import Visualizer\n",
    "from detectron2.data import MetadataCatalog\n",
    "from detectron2.data.catalog import DatasetCatalog\n",
    "from detectron2.utils.visualizer import ColorMode"
   ]
  },
  {
   "cell_type": "code",
   "execution_count": null,
   "metadata": {
    "scrolled": true
   },
   "outputs": [],
   "source": [
    "from detectron2.structures import BoxMode"
   ]
  },
  {
   "cell_type": "code",
   "execution_count": null,
   "metadata": {
    "scrolled": true
   },
   "outputs": [],
   "source": [
    "import torch\n",
    "\n",
    "from PIL import Image\n",
    "import numpy as np\n",
    "import cv2\n",
    "import matplotlib.pyplot as plt"
   ]
  },
  {
   "cell_type": "code",
   "execution_count": null,
   "metadata": {
    "scrolled": true
   },
   "outputs": [],
   "source": [
    "def convert_from_cv2_to_image(img: np.ndarray) -> Image:\n",
    "    # return Image.fromarray(cv2.cvtColor(img, cv2.COLOR_BGR2RGB))\n",
    "    return Image.fromarray(img)\n",
    "\n",
    "\n",
    "def convert_from_image_to_cv2(img: Image) -> np.ndarray:\n",
    "    # return cv2.cvtColor(numpy.array(img), cv2.COLOR_RGB2BGR)\n",
    "    return np.asarray(img)"
   ]
  },
  {
   "cell_type": "code",
   "execution_count": null,
   "metadata": {
    "scrolled": true
   },
   "outputs": [],
   "source": [
    "#Elementclasses = {'Text':0,\"Title\":1,\"List\":2, \"Table\":3,\"Figure\":4}\n",
    "Elementclasses = {\"Illustration\":0}\n",
    "\n",
    "UNKNOWN = len(Elementclasses)-1\n",
    "\n",
    "\n",
    "ElementclassLabels = [x for x in Elementclasses.keys()]\n",
    "reverse_Elementclass = {v:k for k,v in Elementclasses.items()}"
   ]
  },
  {
   "cell_type": "code",
   "execution_count": null,
   "metadata": {
    "scrolled": true
   },
   "outputs": [],
   "source": [
    "def get_key(l):\n",
    "    return reverse_Elementclass[l]"
   ]
  },
  {
   "cell_type": "code",
   "execution_count": null,
   "metadata": {},
   "outputs": [],
   "source": [
    "config_file_path = \"/scratch/project_2005488/DHH23/config.yaml\"\n",
    "\n",
    "num_classes = len(ElementclassLabels)\n",
    "device = \"cuda\"\n",
    "output_dir = \"/scratch/project_2005488/DHH23/model\"\n",
    "\n",
    "def get_train_cfg(config_file_path, num_classes, device, output_dir):\n",
    "\n",
    "    \n",
    "    cfg = get_cfg()\n",
    "    cfg.merge_from_file(config_file_path)\n",
    "    cfg.MODEL.WEIGHTS = \"/scratch/project_2005488/DHH23/model/model_final.pth\"\n",
    "    \n",
    "    cfg.DETECTIONS_PER_IMAGE = 100\n",
    "\n",
    "    cfg.MODEL.ROI_HEADS.NUM_CLASSES = num_classes\n",
    "    cfg.MODEL.DEVICE = device\n",
    "    cfg.OUTPUT_DIR = output_dir\n",
    "    cfg.MASK_FORMAT = \"bitmask\"\n",
    "    return cfg\n"
   ]
  },
  {
   "cell_type": "code",
   "execution_count": null,
   "metadata": {},
   "outputs": [],
   "source": [
    "cfg = get_train_cfg(config_file_path,  num_classes, device, output_dir)"
   ]
  },
  {
   "cell_type": "code",
   "execution_count": null,
   "metadata": {
    "scrolled": true
   },
   "outputs": [],
   "source": [
    "def on_image(image_path, predictor):\n",
    "    im = cv2.imread(image_path)\n",
    "    outputs = predictor(im)\n",
    "    v = Visualizer(im[:,:,::-1], metadata = {}, scale=0.5, instance_mode = ColorMode.SEGMENTATION)\n",
    "    v = v.draw_instance_predictions(outputs['instances'].to(\"cpu\"))\n",
    "    plt.figure(figsize=(10,6))\n",
    "    plt.imshow(v.get_image())\n",
    "    plt.show()"
   ]
  },
  {
   "cell_type": "code",
   "execution_count": null,
   "metadata": {
    "scrolled": true
   },
   "outputs": [],
   "source": [
    "def drawBoxes(image_path, predictor):\n",
    "    im = cv2.imread(image_path)\n",
    "    outputs = predictor(im)\n",
    "    v = Visualizer(\n",
    "        im[:, :, ::-1], \n",
    "        metadata={}, \n",
    "        scale=0.5,\n",
    "        )\n",
    "    for box,l,sc in zip(outputs[\"instances\"].pred_boxes.to('cpu'),outputs[\"instances\"].pred_classes.to('cpu'),outputs[\"instances\"].scores.to('cpu')) :\n",
    "        \n",
    "        if sc >= 0.5 and l in [0,1,2]:\n",
    "            v.draw_box(box)\n",
    "            v.draw_text(get_key(l.item()), tuple(box[:2].numpy()))\n",
    "    v = v.get_output()\n",
    "    plt.figure(figsize=(10,6))\n",
    "    plt.imshow(v.get_image())\n",
    "    plt.show()"
   ]
  },
  {
   "cell_type": "code",
   "execution_count": null,
   "metadata": {
    "scrolled": true
   },
   "outputs": [],
   "source": [
    "from detectron2.engine import DefaultPredictor\n",
    "\n",
    "cfg.MODEL.ROI_HEADS.SCORE_TRESH_TEST = 0.8\n",
    "cfg.MODEL.WEIGHTS = \"/scratch/project_2005488/DHH23/model/model_final_1cl.pth\"\n",
    "predictor = DefaultPredictor(cfg)"
   ]
  },
  {
   "cell_type": "code",
   "execution_count": null,
   "metadata": {},
   "outputs": [],
   "source": [
    "def save_image(image, file_path):\n",
    "    try:\n",
    "        image.save(file_path)\n",
    "    except Exception as e:\n",
    "        print(f\"An error occurred while saving the image: {e}\")"
   ]
  },
  {
   "cell_type": "code",
   "execution_count": null,
   "metadata": {},
   "outputs": [],
   "source": [
    "def cropBbox(img_name, bbox, label, out_dir, crop_name):\n",
    "    crop_folder = os.path.join(out_dir, label)\n",
    "    if not os.path.exists(crop_folder):\n",
    "        try:\n",
    "            os.makedirs(crop_folder)\n",
    "        except OSError as e:\n",
    "            print(f\"An error occurred while creating the directory '{crop_folder}': {e}\")\n",
    "\n",
    "    img = Image.open(img_name).convert(\"RGB\")\n",
    "    x1, y1 = bbox[0]\n",
    "    x2, y2 = bbox[1]\n",
    "    if (x2>x1) and (y2>y1):\n",
    "#        print('##  box=[{},{},{},{}]'.format(x1,y1,x2,y2))\n",
    "        cropped_image = img.crop((x1,y1, x2,y2))\n",
    "        save_image(cropped_image, os.path.join(crop_folder, crop_name))\n",
    "#        print(\"Cropped illustration saved: {}\".format(os.path.join(crop_folder, crop_name)))\n",
    "#        plt.imshow(cropped_image)\n",
    "#        plt.show()\n",
    "        "
   ]
  },
  {
   "cell_type": "code",
   "execution_count": null,
   "metadata": {},
   "outputs": [],
   "source": [
    "import copy\n",
    "def plotBBoxes(imgpath, boxes):\n",
    "    x = cv2.imread(imgpath)\n",
    "    color = (255, 0, 0)\n",
    "    thickness = 4\n",
    "    image = copy.deepcopy(x)\n",
    "    for bb in boxes:\n",
    "    \n",
    "        start_point = bb[0]\n",
    "        end_point = bb[1]\n",
    "        image = cv2.rectangle(image, start_point, end_point, color, thickness)\n",
    "\n",
    "    plt.imshow(image) \n",
    "    plt.show()"
   ]
  },
  {
   "cell_type": "code",
   "execution_count": null,
   "metadata": {},
   "outputs": [],
   "source": [
    "def get_regions(imagepath, model, Elementclasses):   \n",
    "\n",
    "    reverse_class = {v:k for k,v in Elementclasses.items()}\n",
    "    \n",
    "    im = cv2.imread(imagepath)\n",
    "\n",
    "    outputs = model(im)\n",
    "    scores = [x.item() for x in list(outputs['instances'].scores)]\n",
    "    boxes = [[(int(i[0]), int(i[1])), (int(i[2]), int(i[3]))]  for i in outputs['instances'].pred_boxes]\n",
    "    labels = [reverse_class[i.item()] for i in outputs['instances'].pred_classes]\n",
    "\n",
    "    return boxes, labels, scores"
   ]
  },
  {
   "cell_type": "code",
   "execution_count": null,
   "metadata": {},
   "outputs": [],
   "source": [
    "crop_dir = \"/scratch/project_2005488/DHH23/\"\n",
    "imagedir = \"/scratch/project_2005488/DHH23/Detection\"\n",
    "imagelist = os.listdir(imagedir)\n",
    "\n",
    "for imgname in imagelist:\n",
    "    if imgname.endswith(\".png\") or imgname.endswith(\".jpg\") or imgname.endswith(\".jpeg\") or imgname.endswith(\".TIF\"):\n",
    "#        print(imgname)\n",
    "        image_path = os.path.join(imagedir,imgname)\n",
    "\n",
    "        drawBoxes(image_path, predictor)"
   ]
  },
  {
   "cell_type": "code",
   "execution_count": null,
   "metadata": {},
   "outputs": [],
   "source": [
    "crop_dir = \"/scratch/project_2005488/DHH23/cropped\"\n",
    "imagedir = \"/scratch/project_2005488/DHH23/Detection\"\n",
    "imagelist = os.listdir(imagedir)\n",
    "\n",
    "for imgname in imagelist:\n",
    "    if imgname.endswith(\".png\") or imgname.endswith(\".jpg\") or imgname.endswith(\".jpeg\") or imgname.endswith(\".TIF\"):\n",
    "#        print(imgname)\n",
    "        image_path = os.path.join(imagedir,imgname)\n",
    "        r_boxes, r_labels, r_scores = get_regions(image_path, predictor, Elementclasses)\n",
    "        basename = image_path.split(\"/\")[-1]\n",
    "        basename = basename.split(\".\")[0]\n",
    "        i = 0\n",
    "        for box,label in zip(r_boxes, r_labels):\n",
    "            crop_name = basename + \"_\" + str(i) + \".png\"\n",
    "            cropBbox(image_path, box, label, crop_dir, crop_name)\n",
    "            i+=1\n"
   ]
  }
 ],
 "metadata": {
  "kernelspec": {
   "display_name": "Python 3",
   "language": "python",
   "name": "python3"
  },
  "language_info": {
   "codemirror_mode": {
    "name": "ipython",
    "version": 3
   },
   "file_extension": ".py",
   "mimetype": "text/x-python",
   "name": "python",
   "nbconvert_exporter": "python",
   "pygments_lexer": "ipython3",
   "version": "3.8.5"
  }
 },
 "nbformat": 4,
 "nbformat_minor": 4
}
